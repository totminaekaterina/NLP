{
  "nbformat": 4,
  "nbformat_minor": 0,
  "metadata": {
    "colab": {
      "provenance": [],
      "gpuType": "T4",
      "authorship_tag": "ABX9TyM4fM23rn36DspmBxbGu0TS",
      "include_colab_link": true
    },
    "kernelspec": {
      "name": "python3",
      "display_name": "Python 3"
    },
    "language_info": {
      "name": "python"
    },
    "accelerator": "GPU"
  },
  "cells": [
    {
      "cell_type": "markdown",
      "metadata": {
        "id": "view-in-github",
        "colab_type": "text"
      },
      "source": [
        "<a href=\"https://colab.research.google.com/github/totminaekaterina/NLP/blob/main/meatinfo.ipynb\" target=\"_parent\"><img src=\"https://colab.research.google.com/assets/colab-badge.svg\" alt=\"Open In Colab\"/></a>"
      ]
    },
    {
      "cell_type": "code",
      "source": [
        "import torch\n",
        "import torch.nn as nn\n",
        "import torch.optim as optim\n",
        "import pandas as pd\n",
        "from sklearn.model_selection import train_test_split\n",
        "from collections import Counter\n",
        "\n",
        "if torch.cuda.is_available():\n",
        "    device = torch.device(\"cuda\")\n",
        "else:\n",
        "    device = torch.device(\"cpu\")"
      ],
      "metadata": {
        "id": "sF_h7VCXg9tB"
      },
      "execution_count": null,
      "outputs": []
    },
    {
      "cell_type": "code",
      "source": [
        "device"
      ],
      "metadata": {
        "colab": {
          "base_uri": "https://localhost:8080/"
        },
        "id": "hsluaD0njcq5",
        "outputId": "42c5799f-04b0-4968-f077-d3ebbf9ad142"
      },
      "execution_count": null,
      "outputs": [
        {
          "output_type": "execute_result",
          "data": {
            "text/plain": [
              "device(type='cuda')"
            ]
          },
          "metadata": {},
          "execution_count": 2
        }
      ]
    },
    {
      "cell_type": "code",
      "source": [
        "# Шаг 1: Подготовка данных\n",
        "data = pd.read_csv('/content/meatinfo.csv', encoding='utf-8-sig', sep=';')\n",
        "\n",
        "data = data.dropna()  # Удаление строк с пропущенными значениями\n",
        "texts = data['text'].tolist()\n",
        "labels = data['type'].tolist()\n",
        "\n",
        "train_texts, test_texts, train_labels, test_labels = train_test_split(texts, labels, test_size=0.2, random_state=42)\n",
        "\n",
        "# Шаг 2: Предварительная обработка текста\n",
        "def preprocess_text(text):\n",
        "    if isinstance(text, float):  # Проверка на пропущенное значение (тип float)\n",
        "        text = str(text)  # Преобразование в строку\n",
        "    text = text.lower()  # Приведение к нижнему регистру\n",
        "    text = text.strip()  # Удаление лишних пробелов\n",
        "    return text\n",
        "\n",
        "train_texts = [preprocess_text(text) for text in train_texts]\n",
        "test_texts = [preprocess_text(text) for text in test_texts]"
      ],
      "metadata": {
        "id": "cpKmuo27jbP5"
      },
      "execution_count": null,
      "outputs": []
    },
    {
      "cell_type": "code",
      "source": [
        "# Шаг 3: Создание словаря\n",
        "word_counts = Counter(' '.join(train_texts).split())\n",
        "vocabulary = sorted(word_counts, key=word_counts.get, reverse=True)\n",
        "word_to_index = {word: index + 1 for index, word in enumerate(vocabulary)}  # Используем индекс 0 для заполнения (padding)"
      ],
      "metadata": {
        "id": "e01rjVIuhEW6"
      },
      "execution_count": null,
      "outputs": []
    },
    {
      "cell_type": "code",
      "source": [
        "vocabulary[:5]"
      ],
      "metadata": {
        "colab": {
          "base_uri": "https://localhost:8080/"
        },
        "id": "IYMsS2xehscE",
        "outputId": "1d125550-87df-42bc-b296-0439f8b715eb"
      },
      "execution_count": null,
      "outputs": [
        {
          "output_type": "execute_result",
          "data": {
            "text/plain": [
              "['в', 'цена', 'руб.', 'говядина', 'и']"
            ]
          },
          "metadata": {},
          "execution_count": 5
        }
      ]
    },
    {
      "cell_type": "code",
      "source": [
        "# Шаг 4: Преобразование данных\n",
        "def encode_text(text):\n",
        "    return [word_to_index.get(word, 0) for word in text.split()]  # 0 - индекс для неизвестных слов\n",
        "\n",
        "train_encoded = [encode_text(text) for text in train_texts]\n",
        "test_encoded = [encode_text(text) for text in test_texts]"
      ],
      "metadata": {
        "id": "BQcaqkoBhJIL"
      },
      "execution_count": null,
      "outputs": []
    },
    {
      "cell_type": "code",
      "source": [
        "# Шаг 5: Обучение модели\n",
        "max_sequence_length = max(len(seq) for seq in train_encoded + test_encoded)\n",
        "\n",
        "class RNNClassifier(nn.Module):\n",
        "    def __init__(self, input_size, hidden_size, output_size):\n",
        "        super(RNNClassifier, self).__init__()\n",
        "        self.embedding = nn.Embedding(input_size, hidden_size)\n",
        "        self.rnn = nn.RNN(hidden_size, hidden_size, batch_first=True)\n",
        "        self.fc = nn.Linear(hidden_size, output_size)\n",
        "\n",
        "    def forward(self, x):\n",
        "        embedded = self.embedding(x)\n",
        "        output, _ = self.rnn(embedded)\n",
        "        output = self.fc(output[:, -1, :])  # Используем только последний выход из RNN\n",
        "        return output\n",
        "\n",
        "input_size = len(word_to_index) + 1  # Размер словаря плюс 1 для заполнения (padding)\n",
        "hidden_size = 128\n",
        "output_size = len(set(labels))\n",
        "model = RNNClassifier(input_size, hidden_size, output_size)\n",
        "model.to(device)\n",
        "\n",
        "# Шаг 6 (продолжение): Обучение модели\n",
        "batch_size = 1\n",
        "num_epochs = 10\n",
        "learning_rate = 0.001\n",
        "\n",
        "optimizer = optim.Adam(model.parameters(), lr=learning_rate)\n",
        "criterion = nn.CrossEntropyLoss()\n",
        "\n",
        "# Функция для применения паддинга к пакету текстов\n",
        "def pad_sequences(sequences, max_length):\n",
        "    padded_sequences = []\n",
        "    for seq in sequences:\n",
        "        if len(seq) < max_length:\n",
        "            padded_seq = seq + [0] * (max_length - len(seq))  # Используем заполнитель 0\n",
        "        else:\n",
        "            padded_seq = seq[:max_length]\n",
        "        padded_sequences.append(padded_seq)\n",
        "    return padded_sequences\n",
        "\n",
        "# Создание словаря для преобразования меток в числовой формат\n",
        "label_to_index = {}\n",
        "index_to_label = {}\n",
        "for i, label in enumerate(set(labels)):\n",
        "    label_to_index[label] = i\n",
        "    index_to_label[i] = label\n",
        "\n",
        "# Преобразование меток в числовой формат\n",
        "train_labels = [label_to_index[label] for label in train_labels]\n",
        "test_labels = [label_to_index[label] for label in test_labels]\n",
        "\n",
        "train_data = list(zip(train_encoded, train_labels))\n",
        "num_batches = len(train_data) // batch_size\n",
        "\n",
        "for epoch in range(num_epochs):\n",
        "    for batch in range(num_batches):\n",
        "        batch_data = train_data[batch * batch_size: (batch + 1) * batch_size]\n",
        "        batch_texts, batch_labels = zip(*batch_data)\n",
        "\n",
        "        optimizer.zero_grad()\n",
        "\n",
        "        # Применение паддинга к пакету текстов\n",
        "        batch_texts = pad_sequences(batch_texts, max_sequence_length)\n",
        "\n",
        "        batch_texts = torch.LongTensor(batch_texts).to(device)\n",
        "        batch_labels = torch.LongTensor(batch_labels).to(device)\n",
        "\n",
        "        outputs = model(batch_texts)\n",
        "        loss = criterion(outputs, batch_labels)\n",
        "        loss.backward()\n",
        "        optimizer.step()\n",
        "\n",
        "    print(f'Epoch {epoch + 1}/{num_epochs}, Loss: {loss.item()}')\n",
        "\n",
        "# Шаг 7: Оценка модели\n",
        "test_data = list(zip(test_encoded, test_labels))\n",
        "test_texts, test_labels = zip(*test_data)\n",
        "test_texts = pad_sequences(test_texts, max_sequence_length)\n",
        "\n",
        "test_texts = torch.LongTensor(test_texts).to(device)\n",
        "test_labels = torch.LongTensor(test_labels).to(device)\n",
        "\n",
        "model.eval()\n",
        "with torch.no_grad():\n",
        "    test_outputs = model(test_texts)\n",
        "\n",
        "_, predicted_labels = torch.max(test_outputs, 1)\n",
        "accuracy = (predicted_labels == test_labels).sum().item() / len(test_labels)\n",
        "print(f'Test Accuracy: {accuracy}')\n"
      ],
      "metadata": {
        "id": "RP6GWPdahM7E"
      },
      "execution_count": null,
      "outputs": []
    },
    {
      "cell_type": "code",
      "source": [
        "# Преобразование новых текстов в числовой формат\n",
        "new_texts = [\n",
        "    'Набор для бульона свиной',\n",
        "    'Набор для бульона свиной, в наличии, 76р/кг.',\n",
        "    'Мясо премиум Предлагаем котлетное мясо мраморной говядины.',\n",
        "    'спинка цб'\n",
        "]\n",
        "new_encoded = [encode_text(text) for text in new_texts]\n",
        "\n",
        "# Применение паддинга к новым текстам\n",
        "new_texts_padded = pad_sequences(new_encoded, max_sequence_length)\n",
        "\n",
        "# Преобразование в тензор и перенос на GPU\n",
        "new_texts_tensor = torch.LongTensor(new_texts_padded).to(device)\n",
        "\n",
        "# Вычисление предсказаний для новых текстов\n",
        "model.eval()\n",
        "with torch.no_grad():\n",
        "    new_outputs = model(new_texts_tensor)\n",
        "\n",
        "# Преобразование индексов предсказаний в метки классов\n",
        "predicted_labels = [index_to_label[index.item()] for index in torch.argmax(new_outputs, dim=1)]\n",
        "\n",
        "# Вывод результатов\n",
        "for text, label in zip(new_texts, predicted_labels):\n",
        "    print(f'input: {text}')\n",
        "    print(f'output: {label}')\n",
        "    print()\n"
      ],
      "metadata": {
        "id": "dYMw8XL2iSed"
      },
      "execution_count": null,
      "outputs": []
    }
  ]
}